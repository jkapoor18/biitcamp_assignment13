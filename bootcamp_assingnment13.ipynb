{
 "cells": [
  {
   "cell_type": "markdown",
   "id": "1b92f5e0",
   "metadata": {},
   "source": [
    "# 1. What advantages do Excel spreadsheets have over CSV spreadsheets?"
   ]
  },
  {
   "cell_type": "markdown",
   "id": "b068c29f",
   "metadata": {},
   "source": [
    "Ans:- Compared to CSV spreadsheets, Excel spreadsheets have a number of benefits, such as:\n",
    "\n",
    "Data formatting: You can format your data in Excel to make it easier to read and more aesthetically appealing. Your data can be formatted using a variety of choices, including conditional formatting, data bars, and multiple fonts, colours, and styles.\n",
    "\n",
    "\n",
    "Formulas and built-in functions: Excel offers a large selection of formulas and built-in functions that let you carry out intricate computations and data analysis. This makes it simpler to work with big datasets and to produce quick, precise calculations.\n",
    "\n",
    "Excel gives you the ability to make charts and graphs that may be used to display data and spot patterns and trends. There are many other types of charts you can select from, including line, bar\n",
    "\n",
    "\n",
    "Excel's robust pivot table feature makes it possible to swiftly and simply examine and summarise big datasets. With the use of pivot tables, you can perform intricate analysis and reporting on your data by grouping it into several categories and dimensions.etc....."
   ]
  },
  {
   "cell_type": "markdown",
   "id": "6e8a399e",
   "metadata": {},
   "source": [
    "# 2.What do you pass to csv.reader() and csv.writer() to create reader and writer objects?"
   ]
  },
  {
   "cell_type": "code",
   "execution_count": null,
   "id": "3c18ad92",
   "metadata": {},
   "outputs": [],
   "source": [
    "Ans:-A file object containing the CSV data must be passed to the csv.reader() function in Python in order to build a reader object. With the built-in open() function, the file object created.\n",
    "\n",
    "import csv\n",
    "\n",
    "let file = csvfile\n",
    "with open('example.csv', 'r') as csvfile:\n",
    "    # Create a reader object\n",
    "    reader = csv.reader(csvfile)\n",
    "    # Read the CSV data\n",
    "    for row in reader:\n",
    "        print(row)\n",
    "\n",
    "\n",
    "To create a writer object in the csv module, you pass a file object and specify the character to use in the output CSV file to the csv.writer() function.\n",
    "import csv\n",
    "\n",
    " open a new CSV file\n",
    "with open('output.csv', 'w', newline='') as csvfile:\n",
    "    # Create a writer object\n",
    "    writer = csv.writer(csvfile, delimiter=',')\n",
    "    # Write some data to the CSV file\n",
    "    writer.writerow(['Name', 'Age', 'Gender'])\n",
    "    writer.writerow(['Jyoti', 22, 'Female'])\n",
    "    writer.writerow(['pooja', 27, 'Female'])\n",
    "\n",
    "\n",
    "\n",
    "\n",
    "\n"
   ]
  },
  {
   "cell_type": "markdown",
   "id": "7a86c33b",
   "metadata": {},
   "source": [
    "# 3. What modes do File objects for reader and writer objects need to be opened in?"
   ]
  },
  {
   "cell_type": "markdown",
   "id": "02ebc835",
   "metadata": {},
   "source": [
    "Ans: r: open an existing file for a read operation.\n",
    "\n",
    "\n",
    "w: open an existing file for a write operation. If the file already contains some data then it will be overridden but if the file is not present then it creates the file as well."
   ]
  },
  {
   "cell_type": "markdown",
   "id": "0a556f75",
   "metadata": {},
   "source": [
    "# 4. What method takes a list argument and writes it to a CSV file?"
   ]
  },
  {
   "cell_type": "code",
   "execution_count": null,
   "id": "b3a714e7",
   "metadata": {},
   "outputs": [],
   "source": [
    "Ans:- To write a list of data to a CSV file using Python's csv module, you can use the writerow() method of a csv.writer object.\n",
    "\n",
    "Here's an example of writing a list to a CSV file:\n",
    "\n",
    "import csv\n",
    "\n",
    "data = ['Jyoti', 22, 'female']\n",
    "\n",
    "with open('file.csv', 'w', newline='') as csvfile:\n",
    "    writer = csv.writer(csvfile)\n",
    "    writer.writerow(data)\n"
   ]
  },
  {
   "cell_type": "markdown",
   "id": "0cec85d9",
   "metadata": {},
   "source": [
    "# 5. What do the keyword arguments delimiter and line terminator do?"
   ]
  },
  {
   "cell_type": "markdown",
   "id": "dbbaf10d",
   "metadata": {},
   "source": [
    "In a CSV file, the character that divides fields is specified by the keyword argument delimiter. The comma character (',') serves as the delimiter by default. The delimiter keyword parameter can be used to provide an alternative delimiter character when constructing a csv.writer object by giving the desired character as a string.\n",
    "\n",
    "\n",
    "The character used to end lines in a CSV file is specified by the keyword parameter lineterminator. The newline character (n) serves as the line terminator by default. When constructing a csv.writer object, the lineterminator keyword argument can be used to define an alternative line terminator character by giving the desired character as a string."
   ]
  },
  {
   "cell_type": "markdown",
   "id": "06665cb6",
   "metadata": {},
   "source": [
    "# 6. What function takes a string of JSON data and returns a Python data structure?"
   ]
  },
  {
   "cell_type": "markdown",
   "id": "ab25c18d",
   "metadata": {},
   "source": [
    "A JSON string can be parsed and transformed into a Python data structure using the json.loads() function. A string of JSON data is the argument for the loads() method, which is a component of the built-in json module in Python. The parsed JSON data is subsequently returned as a Python object."
   ]
  },
  {
   "cell_type": "markdown",
   "id": "6d9e2678",
   "metadata": {},
   "source": [
    "# 7. What function takes a Python data structure and returns a string of JSON data?"
   ]
  },
  {
   "cell_type": "code",
   "execution_count": null,
   "id": "652ec042",
   "metadata": {},
   "outputs": [],
   "source": [
    "A Python data structure can be transformed into a string of JSON data using the json.dumps() function. A Python object is passed to the dumps() method, which is a component of the json module that comes with Python. The object's JSON representation is then returned as a string.\n",
    "\n",
    "\n",
    "import json\n",
    "\n",
    "py_dict = {'name': 'John', 'age': 30, 'city': 'New York'}\n",
    "json_str = json.dumps(py_dict)\n",
    "\n",
    "print(json_str)\n"
   ]
  }
 ],
 "metadata": {
  "kernelspec": {
   "display_name": "Python 3 (ipykernel)",
   "language": "python",
   "name": "python3"
  },
  "language_info": {
   "codemirror_mode": {
    "name": "ipython",
    "version": 3
   },
   "file_extension": ".py",
   "mimetype": "text/x-python",
   "name": "python",
   "nbconvert_exporter": "python",
   "pygments_lexer": "ipython3",
   "version": "3.9.12"
  }
 },
 "nbformat": 4,
 "nbformat_minor": 5
}
